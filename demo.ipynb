{
 "cells": [
  {
   "cell_type": "markdown",
   "metadata": {
    "tags": []
   },
   "source": [
    "### Dataset\n",
    "* https://github.com/garythung/trashnet\n",
    "* https://drive.google.com/drive/folders/0B3P9oO5A3RvSUW9qTG11Ul83TEE?resourcekey=0-F-D8v2tnSfByG6ll3t9JxA"
   ]
  },
  {
   "cell_type": "code",
   "execution_count": null,
   "metadata": {
    "tags": []
   },
   "outputs": [],
   "source": [
    "!unzip ./data/dataset-resized.zip -d ./data -x \"__MACOSX/*\"\n",
    "!mv ./data/dataset-resized ./data/trashnet"
   ]
  },
  {
   "cell_type": "code",
   "execution_count": null,
   "metadata": {},
   "outputs": [],
   "source": [
    "from pathlib import Path\n",
    "\n",
    "name = \"trashnet\"\n",
    "path = Path(\"./data\") / name"
   ]
  },
  {
   "cell_type": "code",
   "execution_count": null,
   "metadata": {
    "slideshow": {
     "slide_type": "slide"
    }
   },
   "outputs": [],
   "source": [
    "import fiftyone as fo\n",
    "\n",
    "dataset = (\n",
    "    fo.load_dataset(name)\n",
    "    if fo.dataset_exists(name)\n",
    "    else fo.Dataset.from_dir(\n",
    "        path,\n",
    "        fo.types.ImageClassificationDirectoryTree,\n",
    "        name=name,\n",
    "    )\n",
    ")\n",
    "\n",
    "dataset.persistent = True\n",
    "\n",
    "session = fo.launch_app(dataset)"
   ]
  },
  {
   "cell_type": "code",
   "execution_count": null,
   "metadata": {
    "slideshow": {
     "slide_type": "subslide"
    }
   },
   "outputs": [],
   "source": [
    "dataset.compute_metadata()\n",
    "session.view = dataset.view()"
   ]
  },
  {
   "cell_type": "code",
   "execution_count": null,
   "metadata": {},
   "outputs": [],
   "source": [
    "import fiftyone.brain as fob\n",
    "\n",
    "fob.compute_uniqueness(dataset)\n",
    "session.view = dataset.view()"
   ]
  },
  {
   "cell_type": "code",
   "execution_count": null,
   "metadata": {},
   "outputs": [],
   "source": [
    "from flash.image import ImageClassificationData, ImageClassifier\n",
    "\n",
    "from transforms import TimmInputTransform\n",
    "\n",
    "datamodule = ImageClassificationData.from_folders(\n",
    "    train_folder=path,\n",
    "    val_split=0.2,\n",
    "    batch_size=32,\n",
    "    num_workers=0,\n",
    "    # 3.\n",
    "    # transform_kwargs={\"image_size\": 224},\n",
    ")\n",
    "\n",
    "model = ImageClassifier(\n",
    "    num_classes=datamodule.num_classes,\n",
    "    labels=datamodule.labels,\n",
    ")\n",
    "\n",
    "from flash import Trainer\n",
    "\n",
    "trainer = Trainer(\n",
    "    # 1\n",
    "    # accelerator=\"auto\",\n",
    ")\n",
    "trainer.finetune(\n",
    "    model,\n",
    "    datamodule=datamodule,\n",
    "    # 2\n",
    "    # strategy=\"freeze\",\n",
    ")\n"
   ]
  },
  {
   "cell_type": "code",
   "execution_count": null,
   "metadata": {},
   "outputs": [],
   "source": [
    "from flash.image import ImageClassificationData\n",
    "from transforms import TimmInputTransform\n",
    "\n",
    "datamodule = ImageClassificationData.from_folders(\n",
    "    train_folder=path,\n",
    "    val_split=0.2,\n",
    "    batch_size=32,\n",
    "    num_workers=0,\n",
    "    # 2\n",
    "    # transform=TimmInputTransform,\n",
    "    transform_kwargs={\"image_size\": 224},\n",
    ")\n",
    "\n",
    "datamodule.show_train_batch(\n",
    "    limit_nb_samples=8,\n",
    "    figsize=(16, 7),\n",
    "    # 1\n",
    "    # hooks_names=[\"load_sample\", \"per_sample_transform\"],\n",
    ")\n",
    "\n",
    "# 3 \n",
    "# model = ImageClassifier(\n",
    "#     num_classes=datamodule.num_classes,\n",
    "#     labels=datamodule.labels,\n",
    "# )\n",
    "\n",
    "# from flash import Trainer\n",
    "\n",
    "# trainer = Trainer(\n",
    "#     accelerator=\"auto\",\n",
    "# )\n",
    "# trainer.finetune(\n",
    "#     model,\n",
    "#     datamodule=datamodule,\n",
    "#     strategy=\"freeze\",\n",
    "# )\n"
   ]
  },
  {
   "cell_type": "markdown",
   "metadata": {},
   "source": [
    "Which model should I use?\n",
    "* https://github.com/rwightman/pytorch-image-models/\n",
    "* https://www.kaggle.com/code/jhoward/which-image-models-are-best"
   ]
  },
  {
   "cell_type": "code",
   "execution_count": null,
   "metadata": {},
   "outputs": [],
   "source": [
    "import torch\n",
    "import torchvision\n",
    "from torch.utils.mobile_optimizer import optimize_for_mobile\n",
    "from flash.image import ImageClassificationData, ImageClassifier\n",
    "\n",
    "model = ImageClassifier.load_from_checkpoint(\"path/to/checkpoint\")\n",
    "scripted_model = model.to_torchscript()\n",
    "optimized_model = optimize_for_mobile(scripted_model)\n",
    "optimized_model._save_for_lite_interpreter(\"model.ptl\")\n"
   ]
  }
 ],
 "metadata": {
  "kernelspec": {
   "display_name": "Python 3 (ipykernel)",
   "language": "python",
   "name": "python3"
  },
  "language_info": {
   "codemirror_mode": {
    "name": "ipython",
    "version": 3
   },
   "file_extension": ".py",
   "mimetype": "text/x-python",
   "name": "python",
   "nbconvert_exporter": "python",
   "pygments_lexer": "ipython3",
   "version": "3.10.5"
  },
  "vscode": {
   "interpreter": {
    "hash": "5c7db24202e0cc6711a4c7ca7b4601162c32ff7408f2be7a1373ceaaec15cb24"
   }
  }
 },
 "nbformat": 4,
 "nbformat_minor": 4
}
